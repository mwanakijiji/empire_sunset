{
 "cells": [
  {
   "cell_type": "code",
   "execution_count": 1,
   "id": "b2895b42",
   "metadata": {},
   "outputs": [],
   "source": [
    "# This makes plots of total amount of land (within a normalization constant)\n",
    "# which is illuminated by the Sun, given LAT, LON, and sunrise and sunset times\n",
    "\n",
    "# Created 2021 Nov. 14 by E.S."
   ]
  },
  {
   "cell_type": "code",
   "execution_count": 1,
   "id": "4f1abe84",
   "metadata": {},
   "outputs": [],
   "source": [
    "import matplotlib.pyplot as plt\n",
    "import pandas as pd\n",
    "import numpy as np\n",
    "\n",
    "%matplotlib qt"
   ]
  },
  {
   "cell_type": "code",
   "execution_count": 2,
   "id": "d41da537",
   "metadata": {},
   "outputs": [],
   "source": [
    "df = pd.read_csv(\"junk_data.csv\")"
   ]
  },
  {
   "cell_type": "code",
   "execution_count": 3,
   "id": "b8fbfa02",
   "metadata": {},
   "outputs": [],
   "source": [
    "# change 0s (sunsets) to -1s to enable cumulative summation that goes down when a \n",
    "# sunset happens over a given (LAT,LON)\n",
    "\n",
    "df[\"EVENT\"].replace({0: -1}, inplace=True)"
   ]
  },
  {
   "cell_type": "code",
   "execution_count": 4,
   "id": "9ebe2129",
   "metadata": {},
   "outputs": [],
   "source": [
    "df_cumsum = df.sort_values([\"JD_FULL\"], ascending = (True)).reset_index(drop=True)\n",
    "df_cumsum[\"INSOL_SUM\"] = df_cumsum[\"EVENT\"].cumsum()"
   ]
  },
  {
   "cell_type": "code",
   "execution_count": 5,
   "id": "789735be",
   "metadata": {},
   "outputs": [],
   "source": [
    "plt.plot(df_cumsum[\"JD_FULL\"],df_cumsum[\"INSOL_SUM\"])\n",
    "plt.show()"
   ]
  },
  {
   "cell_type": "code",
   "execution_count": null,
   "id": "7126105e",
   "metadata": {},
   "outputs": [],
   "source": []
  }
 ],
 "metadata": {
  "kernelspec": {
   "display_name": "Python 3",
   "language": "python",
   "name": "python3"
  },
  "language_info": {
   "codemirror_mode": {
    "name": "ipython",
    "version": 3
   },
   "file_extension": ".py",
   "mimetype": "text/x-python",
   "name": "python",
   "nbconvert_exporter": "python",
   "pygments_lexer": "ipython3",
   "version": "3.7.10"
  }
 },
 "nbformat": 4,
 "nbformat_minor": 5
}
